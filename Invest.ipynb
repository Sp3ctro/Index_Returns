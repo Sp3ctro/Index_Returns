{
 "cells": [
  {
   "cell_type": "code",
   "execution_count": null,
   "metadata": {},
   "outputs": [],
   "source": [
    "import math\n",
    "import quandl\n",
    "import pandas as pd\n",
    "import matplotlib.pyplot as plt\n",
    "from IPython.display import Markdown\n",
    "import statsmodels.formula.api as sm\n",
    "from matplotlib.ticker import PercentFormatter"
   ]
  },
  {
   "cell_type": "code",
   "execution_count": null,
   "metadata": {},
   "outputs": [],
   "source": [
    "# Index Data\n",
    "tickers = {\n",
    "    \"MSCI World\" : 'CHRIS/EUREX_FMWO1',\n",
    "    \"MSCI Japan\" : 'CHRIS/EUREX_FMJP1',\n",
    "    \"MSCI Europe\" : 'CHRIS/EUREX_FMEU1',\n",
    "    \"MSCI Emerging Markets\" : 'CHRIS/EUREX_FMEM1',\n",
    "    \"MSCI Asia_Ex Japan\" : 'CHRIS/EUREX_FMAS1',\n",
    "    \"FTSE 100\" : 'CHRIS/LIFFE_Z1',\n",
    "    \"Euro STOXX 50\" : 'CHRIS/EUREX_FESX1'\n",
    "}\n",
    "\n",
    "#Economic Data Indicators\n",
    "pmi_data = \"ISM/MAN_PMI\"\n",
    "pmi_data_raw = quandl.get(pmi_data, authtoken=\"vbGAyFgFrM9L4qLgEx_n\")\n",
    "\n",
    "building_permits = \"FRED/PERMIT\"\n",
    "building_permits_data = quandl.get(building_permits, authtoken=\"vbGAyFgFrM9L4qLgEx_n\")"
   ]
  },
  {
   "cell_type": "code",
   "execution_count": null,
   "metadata": {},
   "outputs": [],
   "source": [
    "# Index Data\n",
    "tickerOne = 'CHRIS/EUREX_FMWO1'\n",
    "data_raw = quandl.get(tickerOne, authtoken=\"vbGAyFgFrM9L4qLgEx_n\")\n",
    "\n",
    "for ticker in tickers:\n",
    "    data_temp = quandl.get(tickers.get(ticker), authtoken=\"vbGAyFgFrM9L4qLgEx_n\")\n",
    "    data_raw[tickers.get(ticker)[6:]] = data_temp['Settle']\n",
    "    \n",
    "data_raw = data_raw.drop('Open', 1)\n",
    "data_raw = data_raw.drop('High', 1)\n",
    "data_raw = data_raw.drop('Low', 1)\n",
    "data_raw = data_raw.drop('Settle', 1)\n",
    "data_raw = data_raw.drop('Volume', 1)\n",
    "data_raw = data_raw.drop('Prev. Day Open Interest', 1)"
   ]
  },
  {
   "cell_type": "code",
   "execution_count": null,
   "metadata": {},
   "outputs": [],
   "source": [
    "# Lookback Period\n",
    "period = 60\n",
    "\n",
    "# Computing Lookback Period Returns\n",
    "for ticker in tickers:\n",
    "    data_raw[tickers.get(ticker)[6:]+'periodma'] = data_raw[tickers.get(ticker)[6:]].rolling(window=period,center=False).mean()\n",
    "    data_raw[tickers.get(ticker)[6:]+'dperiodma'] = data_raw[tickers.get(ticker)[6:]+'periodma'].shift(-1) - data_raw[tickers.get(ticker)[6:]+'periodma']\n",
    "    data_raw.fillna(method='pad', inplace=True)\n",
    "    data = data_raw.tail(period*8)"
   ]
  },
  {
   "cell_type": "code",
   "execution_count": null,
   "metadata": {},
   "outputs": [],
   "source": [
    "for ticker in tickers:\n",
    "        \n",
    "    fix, ax1 = plt.subplots() \n",
    "    ax2 = ax1.twinx()\n",
    "    plt.gcf().autofmt_xdate()\n",
    "        \n",
    "    ax1.set_title(ticker)\n",
    "    ax1.plot(data[tickers.get(ticker)[6:]], label=\"Close Price\", linewidth=0.5)\n",
    "    ax1.plot(data[tickers.get(ticker)[6:]+'periodma'], label=str(period)+\" Day Moving Average\", linewidth=0.5)\n",
    "    ax1.legend(bbox_to_anchor=(1.15, 1), loc='upper left', borderaxespad=0.)\n",
    "    \n",
    "    ax2.yaxis.set_major_formatter(PercentFormatter())\n",
    "    ax2.plot(data[tickers.get(ticker)[6:]+'dperiodma'], label=str(period)+\" Day Return (RHS)\", color = 'r', linewidth=0.5)\n",
    "    ax2.legend(bbox_to_anchor=(1.15, .80), loc='upper left', borderaxespad=0.)    \n",
    "   \n",
    "    ax2.axhline(data[tickers.get(ticker)[6:]+'dperiodma'].mean(), color='black', linewidth=0.5, label=\"Mean Return\")\n",
    "    ax2.axhline(data[tickers.get(ticker)[6:]+'dperiodma'].mean() + data[tickers.get(ticker)[6:]+'dperiodma'].std(), color='grey', linewidth=0.35)\n",
    "    ax2.axhline(data[tickers.get(ticker)[6:]+'dperiodma'].mean() - data[tickers.get(ticker)[6:]+'dperiodma'].std(), color='grey', linewidth=0.35)\n",
    "    ax2.axhline(data[tickers.get(ticker)[6:]+'dperiodma'].mean() + data[tickers.get(ticker)[6:]+'dperiodma'].std()*2, color='grey', linewidth=0.35)\n",
    "    ax2.axhline(data[tickers.get(ticker)[6:]+'dperiodma'].mean() - data[tickers.get(ticker)[6:]+'dperiodma'].std()*2, color='grey', linewidth=0.35)\n",
    "    plt.show()\n",
    "    \n",
    "    meanPeriodReturn = data[tickers.get(ticker)[6:]+'dperiodma'].mean()\n",
    "    meanPeriodReturnVol = data[tickers.get(ticker)[6:]+'dperiodma'].std()\n",
    "    currentPeriodReturn = data.iloc[-1][tickers.get(ticker)[6:]+'dperiodma']\n",
    "    currentlyTradingAt = (currentPeriodReturn - meanPeriodReturn)/meanPeriodReturnVol\n",
    "    \n",
    "    display (Markdown('**Data & Technical Indicators for '+ticker+'**'))\n",
    "    display (Markdown('Last Close: '+str(data.iloc[-1][tickers.get(ticker)[6:]])))\n",
    "    display (Markdown('Mean '+str(period)+' day return: '+str(round(meanPeriodReturn, 4))+'%; '+str(round(meanPeriodReturnVol, 4))+'% std dev'))\n",
    "    display (Markdown('Current '+str(period)+' day return: '+str(round(currentPeriodReturn, 4))+'%; '+str(round(currentlyTradingAt, 4))+' std dev from mean'))\n",
    "\n",
    "    if(currentlyTradingAt > 2 or currentlyTradingAt < -2):\n",
    "        print()\n",
    "        display (Markdown(str(period)+' day return is 2 std or more from its average. <span style=\"color: #ff0000\">Potential opportunity</span>'))\n",
    "\n",
    "    elif(currentlyTradingAt > 1 or currentlyTradingAt < -1):\n",
    "        display (Markdown(str(period)+' day return is 1 std or more from its average. Keep an eye on this.'))\n"
   ]
  }
 ],
 "metadata": {
  "kernelspec": {
   "display_name": "Python 3",
   "language": "python",
   "name": "python3"
  },
  "language_info": {
   "codemirror_mode": {
    "name": "ipython",
    "version": 3
   },
   "file_extension": ".py",
   "mimetype": "text/x-python",
   "name": "python",
   "nbconvert_exporter": "python",
   "pygments_lexer": "ipython3",
   "version": "3.6.4"
  }
 },
 "nbformat": 4,
 "nbformat_minor": 2
}
